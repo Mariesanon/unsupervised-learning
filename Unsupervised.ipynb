{
  "cells": [
    {
      "cell_type": "code",
      "execution_count": null,
      "id": "506c5e19",
      "metadata": {
        "id": "506c5e19"
      },
      "outputs": [],
      "source": [
        "import numpy as np\n",
        "import pandas as pd\n",
        "import matplotlib.pyplot as plt"
      ]
    },
    {
      "cell_type": "markdown",
      "id": "5385dc30",
      "metadata": {
        "id": "5385dc30"
      },
      "source": [
        "## Preparing the data"
      ]
    },
    {
      "cell_type": "code",
      "execution_count": null,
      "id": "d4240448",
      "metadata": {
        "id": "d4240448",
        "outputId": "57c9b303-68d0-4239-a85c-5a5ab409bb67"
      },
      "outputs": [
        {
          "data": {
            "text/html": [
              "<div>\n",
              "<style scoped>\n",
              "    .dataframe tbody tr th:only-of-type {\n",
              "        vertical-align: middle;\n",
              "    }\n",
              "\n",
              "    .dataframe tbody tr th {\n",
              "        vertical-align: top;\n",
              "    }\n",
              "\n",
              "    .dataframe thead th {\n",
              "        text-align: right;\n",
              "    }\n",
              "</style>\n",
              "<table border=\"1\" class=\"dataframe\">\n",
              "  <thead>\n",
              "    <tr style=\"text-align: right;\">\n",
              "      <th></th>\n",
              "      <th>AGE</th>\n",
              "      <th>SPHEQ</th>\n",
              "      <th>AL</th>\n",
              "      <th>ACD</th>\n",
              "      <th>LT</th>\n",
              "      <th>VCD</th>\n",
              "      <th>SPORTHR</th>\n",
              "      <th>READHR</th>\n",
              "      <th>COMPHR</th>\n",
              "      <th>STUDYHR</th>\n",
              "      <th>TVHR</th>\n",
              "      <th>DIOPTERHR</th>\n",
              "      <th>MOMMY</th>\n",
              "      <th>DADMY</th>\n",
              "      <th>MYOPIC</th>\n",
              "    </tr>\n",
              "  </thead>\n",
              "  <tbody>\n",
              "    <tr>\n",
              "      <th>0</th>\n",
              "      <td>6</td>\n",
              "      <td>-0.052</td>\n",
              "      <td>21.889999</td>\n",
              "      <td>3.690</td>\n",
              "      <td>3.498</td>\n",
              "      <td>14.70</td>\n",
              "      <td>45</td>\n",
              "      <td>8</td>\n",
              "      <td>0</td>\n",
              "      <td>0</td>\n",
              "      <td>10</td>\n",
              "      <td>34</td>\n",
              "      <td>1</td>\n",
              "      <td>1</td>\n",
              "      <td>1</td>\n",
              "    </tr>\n",
              "    <tr>\n",
              "      <th>1</th>\n",
              "      <td>6</td>\n",
              "      <td>0.608</td>\n",
              "      <td>22.379999</td>\n",
              "      <td>3.702</td>\n",
              "      <td>3.392</td>\n",
              "      <td>15.29</td>\n",
              "      <td>4</td>\n",
              "      <td>0</td>\n",
              "      <td>1</td>\n",
              "      <td>1</td>\n",
              "      <td>7</td>\n",
              "      <td>12</td>\n",
              "      <td>1</td>\n",
              "      <td>1</td>\n",
              "      <td>0</td>\n",
              "    </tr>\n",
              "    <tr>\n",
              "      <th>2</th>\n",
              "      <td>6</td>\n",
              "      <td>1.179</td>\n",
              "      <td>22.490000</td>\n",
              "      <td>3.462</td>\n",
              "      <td>3.514</td>\n",
              "      <td>15.52</td>\n",
              "      <td>14</td>\n",
              "      <td>0</td>\n",
              "      <td>2</td>\n",
              "      <td>0</td>\n",
              "      <td>10</td>\n",
              "      <td>14</td>\n",
              "      <td>0</td>\n",
              "      <td>0</td>\n",
              "      <td>0</td>\n",
              "    </tr>\n",
              "    <tr>\n",
              "      <th>3</th>\n",
              "      <td>6</td>\n",
              "      <td>0.525</td>\n",
              "      <td>22.200001</td>\n",
              "      <td>3.862</td>\n",
              "      <td>3.612</td>\n",
              "      <td>14.73</td>\n",
              "      <td>18</td>\n",
              "      <td>11</td>\n",
              "      <td>0</td>\n",
              "      <td>0</td>\n",
              "      <td>4</td>\n",
              "      <td>37</td>\n",
              "      <td>0</td>\n",
              "      <td>1</td>\n",
              "      <td>1</td>\n",
              "    </tr>\n",
              "    <tr>\n",
              "      <th>4</th>\n",
              "      <td>5</td>\n",
              "      <td>0.697</td>\n",
              "      <td>23.290001</td>\n",
              "      <td>3.676</td>\n",
              "      <td>3.454</td>\n",
              "      <td>16.16</td>\n",
              "      <td>14</td>\n",
              "      <td>0</td>\n",
              "      <td>0</td>\n",
              "      <td>0</td>\n",
              "      <td>4</td>\n",
              "      <td>4</td>\n",
              "      <td>1</td>\n",
              "      <td>0</td>\n",
              "      <td>0</td>\n",
              "    </tr>\n",
              "  </tbody>\n",
              "</table>\n",
              "</div>"
            ],
            "text/plain": [
              "   AGE  SPHEQ         AL    ACD     LT    VCD  SPORTHR  READHR  COMPHR  \\\n",
              "0    6 -0.052  21.889999  3.690  3.498  14.70       45       8       0   \n",
              "1    6  0.608  22.379999  3.702  3.392  15.29        4       0       1   \n",
              "2    6  1.179  22.490000  3.462  3.514  15.52       14       0       2   \n",
              "3    6  0.525  22.200001  3.862  3.612  14.73       18      11       0   \n",
              "4    5  0.697  23.290001  3.676  3.454  16.16       14       0       0   \n",
              "\n",
              "   STUDYHR  TVHR  DIOPTERHR  MOMMY  DADMY  MYOPIC  \n",
              "0        0    10         34      1      1       1  \n",
              "1        1     7         12      1      1       0  \n",
              "2        0    10         14      0      0       0  \n",
              "3        0     4         37      0      1       1  \n",
              "4        0     4          4      1      0       0  "
            ]
          },
          "execution_count": 42,
          "metadata": {},
          "output_type": "execute_result"
        }
      ],
      "source": [
        "df = pd.read_csv(\"myopia.csv\")\n",
        "df.head()"
      ]
    },
    {
      "cell_type": "code",
      "execution_count": null,
      "id": "c7d86a74",
      "metadata": {
        "id": "c7d86a74",
        "outputId": "9dc7494a-c40e-4abf-b289-b4b3dea927a9"
      },
      "outputs": [
        {
          "data": {
            "text/html": [
              "<div>\n",
              "<style scoped>\n",
              "    .dataframe tbody tr th:only-of-type {\n",
              "        vertical-align: middle;\n",
              "    }\n",
              "\n",
              "    .dataframe tbody tr th {\n",
              "        vertical-align: top;\n",
              "    }\n",
              "\n",
              "    .dataframe thead th {\n",
              "        text-align: right;\n",
              "    }\n",
              "</style>\n",
              "<table border=\"1\" class=\"dataframe\">\n",
              "  <thead>\n",
              "    <tr style=\"text-align: right;\">\n",
              "      <th></th>\n",
              "      <th>AGE</th>\n",
              "      <th>SPHEQ</th>\n",
              "      <th>AL</th>\n",
              "      <th>ACD</th>\n",
              "      <th>LT</th>\n",
              "      <th>VCD</th>\n",
              "      <th>SPORTHR</th>\n",
              "      <th>READHR</th>\n",
              "      <th>COMPHR</th>\n",
              "      <th>STUDYHR</th>\n",
              "      <th>TVHR</th>\n",
              "      <th>DIOPTERHR</th>\n",
              "      <th>MOMMY</th>\n",
              "      <th>DADMY</th>\n",
              "    </tr>\n",
              "  </thead>\n",
              "  <tbody>\n",
              "    <tr>\n",
              "      <th>0</th>\n",
              "      <td>6</td>\n",
              "      <td>-0.052</td>\n",
              "      <td>21.889999</td>\n",
              "      <td>3.690</td>\n",
              "      <td>3.498</td>\n",
              "      <td>14.70</td>\n",
              "      <td>45</td>\n",
              "      <td>8</td>\n",
              "      <td>0</td>\n",
              "      <td>0</td>\n",
              "      <td>10</td>\n",
              "      <td>34</td>\n",
              "      <td>1</td>\n",
              "      <td>1</td>\n",
              "    </tr>\n",
              "    <tr>\n",
              "      <th>1</th>\n",
              "      <td>6</td>\n",
              "      <td>0.608</td>\n",
              "      <td>22.379999</td>\n",
              "      <td>3.702</td>\n",
              "      <td>3.392</td>\n",
              "      <td>15.29</td>\n",
              "      <td>4</td>\n",
              "      <td>0</td>\n",
              "      <td>1</td>\n",
              "      <td>1</td>\n",
              "      <td>7</td>\n",
              "      <td>12</td>\n",
              "      <td>1</td>\n",
              "      <td>1</td>\n",
              "    </tr>\n",
              "    <tr>\n",
              "      <th>2</th>\n",
              "      <td>6</td>\n",
              "      <td>1.179</td>\n",
              "      <td>22.490000</td>\n",
              "      <td>3.462</td>\n",
              "      <td>3.514</td>\n",
              "      <td>15.52</td>\n",
              "      <td>14</td>\n",
              "      <td>0</td>\n",
              "      <td>2</td>\n",
              "      <td>0</td>\n",
              "      <td>10</td>\n",
              "      <td>14</td>\n",
              "      <td>0</td>\n",
              "      <td>0</td>\n",
              "    </tr>\n",
              "    <tr>\n",
              "      <th>3</th>\n",
              "      <td>6</td>\n",
              "      <td>0.525</td>\n",
              "      <td>22.200001</td>\n",
              "      <td>3.862</td>\n",
              "      <td>3.612</td>\n",
              "      <td>14.73</td>\n",
              "      <td>18</td>\n",
              "      <td>11</td>\n",
              "      <td>0</td>\n",
              "      <td>0</td>\n",
              "      <td>4</td>\n",
              "      <td>37</td>\n",
              "      <td>0</td>\n",
              "      <td>1</td>\n",
              "    </tr>\n",
              "    <tr>\n",
              "      <th>4</th>\n",
              "      <td>5</td>\n",
              "      <td>0.697</td>\n",
              "      <td>23.290001</td>\n",
              "      <td>3.676</td>\n",
              "      <td>3.454</td>\n",
              "      <td>16.16</td>\n",
              "      <td>14</td>\n",
              "      <td>0</td>\n",
              "      <td>0</td>\n",
              "      <td>0</td>\n",
              "      <td>4</td>\n",
              "      <td>4</td>\n",
              "      <td>1</td>\n",
              "      <td>0</td>\n",
              "    </tr>\n",
              "  </tbody>\n",
              "</table>\n",
              "</div>"
            ],
            "text/plain": [
              "   AGE  SPHEQ         AL    ACD     LT    VCD  SPORTHR  READHR  COMPHR  \\\n",
              "0    6 -0.052  21.889999  3.690  3.498  14.70       45       8       0   \n",
              "1    6  0.608  22.379999  3.702  3.392  15.29        4       0       1   \n",
              "2    6  1.179  22.490000  3.462  3.514  15.52       14       0       2   \n",
              "3    6  0.525  22.200001  3.862  3.612  14.73       18      11       0   \n",
              "4    5  0.697  23.290001  3.676  3.454  16.16       14       0       0   \n",
              "\n",
              "   STUDYHR  TVHR  DIOPTERHR  MOMMY  DADMY  \n",
              "0        0    10         34      1      1  \n",
              "1        1     7         12      1      1  \n",
              "2        0    10         14      0      0  \n",
              "3        0     4         37      0      1  \n",
              "4        0     4          4      1      0  "
            ]
          },
          "execution_count": 43,
          "metadata": {},
          "output_type": "execute_result"
        }
      ],
      "source": [
        "df.drop('MYOPIC', inplace=True, axis=1)\n",
        "df.head()"
      ]
    },
    {
      "cell_type": "code",
      "execution_count": null,
      "id": "e2894610",
      "metadata": {
        "id": "e2894610",
        "outputId": "62f41b0b-fced-4f02-eaed-14a07cc19de6"
      },
      "outputs": [
        {
          "data": {
            "text/html": [
              "<div>\n",
              "<style scoped>\n",
              "    .dataframe tbody tr th:only-of-type {\n",
              "        vertical-align: middle;\n",
              "    }\n",
              "\n",
              "    .dataframe tbody tr th {\n",
              "        vertical-align: top;\n",
              "    }\n",
              "\n",
              "    .dataframe thead th {\n",
              "        text-align: right;\n",
              "    }\n",
              "</style>\n",
              "<table border=\"1\" class=\"dataframe\">\n",
              "  <thead>\n",
              "    <tr style=\"text-align: right;\">\n",
              "      <th></th>\n",
              "      <th>0</th>\n",
              "      <th>1</th>\n",
              "      <th>2</th>\n",
              "      <th>3</th>\n",
              "      <th>4</th>\n",
              "      <th>5</th>\n",
              "      <th>6</th>\n",
              "      <th>7</th>\n",
              "      <th>8</th>\n",
              "      <th>9</th>\n",
              "      <th>10</th>\n",
              "      <th>11</th>\n",
              "      <th>12</th>\n",
              "      <th>13</th>\n",
              "    </tr>\n",
              "  </thead>\n",
              "  <tbody>\n",
              "    <tr>\n",
              "      <th>0</th>\n",
              "      <td>-0.420219</td>\n",
              "      <td>-1.363917</td>\n",
              "      <td>-0.892861</td>\n",
              "      <td>0.483784</td>\n",
              "      <td>-0.281443</td>\n",
              "      <td>-1.019792</td>\n",
              "      <td>4.150661</td>\n",
              "      <td>1.697450</td>\n",
              "      <td>-0.689311</td>\n",
              "      <td>-0.672996</td>\n",
              "      <td>0.184058</td>\n",
              "      <td>0.498304</td>\n",
              "      <td>0.987138</td>\n",
              "      <td>1.003241</td>\n",
              "    </tr>\n",
              "    <tr>\n",
              "      <th>1</th>\n",
              "      <td>-0.420219</td>\n",
              "      <td>-0.308612</td>\n",
              "      <td>-0.171840</td>\n",
              "      <td>0.535910</td>\n",
              "      <td>-0.967997</td>\n",
              "      <td>-0.130763</td>\n",
              "      <td>-0.998898</td>\n",
              "      <td>-0.912062</td>\n",
              "      <td>-0.361875</td>\n",
              "      <td>-0.221409</td>\n",
              "      <td>-0.340932</td>\n",
              "      <td>-0.875088</td>\n",
              "      <td>0.987138</td>\n",
              "      <td>1.003241</td>\n",
              "    </tr>\n",
              "    <tr>\n",
              "      <th>2</th>\n",
              "      <td>-0.420219</td>\n",
              "      <td>0.604386</td>\n",
              "      <td>-0.009977</td>\n",
              "      <td>-0.506628</td>\n",
              "      <td>-0.177812</td>\n",
              "      <td>0.215809</td>\n",
              "      <td>0.257092</td>\n",
              "      <td>-0.912062</td>\n",
              "      <td>-0.034439</td>\n",
              "      <td>-0.672996</td>\n",
              "      <td>0.184058</td>\n",
              "      <td>-0.750234</td>\n",
              "      <td>-1.013030</td>\n",
              "      <td>-0.996769</td>\n",
              "    </tr>\n",
              "    <tr>\n",
              "      <th>3</th>\n",
              "      <td>-0.420219</td>\n",
              "      <td>-0.441325</td>\n",
              "      <td>-0.436703</td>\n",
              "      <td>1.230936</td>\n",
              "      <td>0.456927</td>\n",
              "      <td>-0.974587</td>\n",
              "      <td>0.759488</td>\n",
              "      <td>2.676017</td>\n",
              "      <td>-0.689311</td>\n",
              "      <td>-0.672996</td>\n",
              "      <td>-0.865922</td>\n",
              "      <td>0.685585</td>\n",
              "      <td>-1.013030</td>\n",
              "      <td>1.003241</td>\n",
              "    </tr>\n",
              "    <tr>\n",
              "      <th>4</th>\n",
              "      <td>-1.823978</td>\n",
              "      <td>-0.166306</td>\n",
              "      <td>1.167204</td>\n",
              "      <td>0.422970</td>\n",
              "      <td>-0.566427</td>\n",
              "      <td>1.180178</td>\n",
              "      <td>0.257092</td>\n",
              "      <td>-0.912062</td>\n",
              "      <td>-0.689311</td>\n",
              "      <td>-0.672996</td>\n",
              "      <td>-0.865922</td>\n",
              "      <td>-1.374503</td>\n",
              "      <td>0.987138</td>\n",
              "      <td>-0.996769</td>\n",
              "    </tr>\n",
              "  </tbody>\n",
              "</table>\n",
              "</div>"
            ],
            "text/plain": [
              "         0         1         2         3         4         5         6   \\\n",
              "0 -0.420219 -1.363917 -0.892861  0.483784 -0.281443 -1.019792  4.150661   \n",
              "1 -0.420219 -0.308612 -0.171840  0.535910 -0.967997 -0.130763 -0.998898   \n",
              "2 -0.420219  0.604386 -0.009977 -0.506628 -0.177812  0.215809  0.257092   \n",
              "3 -0.420219 -0.441325 -0.436703  1.230936  0.456927 -0.974587  0.759488   \n",
              "4 -1.823978 -0.166306  1.167204  0.422970 -0.566427  1.180178  0.257092   \n",
              "\n",
              "         7         8         9         10        11        12        13  \n",
              "0  1.697450 -0.689311 -0.672996  0.184058  0.498304  0.987138  1.003241  \n",
              "1 -0.912062 -0.361875 -0.221409 -0.340932 -0.875088  0.987138  1.003241  \n",
              "2 -0.912062 -0.034439 -0.672996  0.184058 -0.750234 -1.013030 -0.996769  \n",
              "3  2.676017 -0.689311 -0.672996 -0.865922  0.685585 -1.013030  1.003241  \n",
              "4 -0.912062 -0.689311 -0.672996 -0.865922 -1.374503  0.987138 -0.996769  "
            ]
          },
          "execution_count": 44,
          "metadata": {},
          "output_type": "execute_result"
        }
      ],
      "source": [
        "from sklearn.preprocessing import StandardScaler\n",
        "scale= StandardScaler()\n",
        "df = pd.DataFrame(scale.fit_transform(df))\n",
        "df.head()"
      ]
    },
    {
      "cell_type": "markdown",
      "id": "3c85cfd6",
      "metadata": {
        "id": "3c85cfd6"
      },
      "source": [
        "## Dimensionality reduction"
      ]
    },
    {
      "cell_type": "code",
      "execution_count": null,
      "id": "d0204cf6",
      "metadata": {
        "id": "d0204cf6"
      },
      "outputs": [],
      "source": [
        "from sklearn.decomposition import PCA\n",
        "pca = PCA(n_components=0.90)\n",
        "principal_components = pca.fit_transform(df)"
      ]
    },
    {
      "cell_type": "code",
      "execution_count": null,
      "id": "c36c7029",
      "metadata": {
        "id": "c36c7029",
        "outputId": "a2f34c2a-5969-4ae8-933d-faff9d90567c"
      },
      "outputs": [
        {
          "data": {
            "text/html": [
              "<div>\n",
              "<style scoped>\n",
              "    .dataframe tbody tr th:only-of-type {\n",
              "        vertical-align: middle;\n",
              "    }\n",
              "\n",
              "    .dataframe tbody tr th {\n",
              "        vertical-align: top;\n",
              "    }\n",
              "\n",
              "    .dataframe thead th {\n",
              "        text-align: right;\n",
              "    }\n",
              "</style>\n",
              "<table border=\"1\" class=\"dataframe\">\n",
              "  <thead>\n",
              "    <tr style=\"text-align: right;\">\n",
              "      <th></th>\n",
              "      <th>0</th>\n",
              "      <th>1</th>\n",
              "      <th>2</th>\n",
              "      <th>3</th>\n",
              "      <th>4</th>\n",
              "      <th>5</th>\n",
              "      <th>6</th>\n",
              "      <th>7</th>\n",
              "      <th>8</th>\n",
              "      <th>9</th>\n",
              "    </tr>\n",
              "  </thead>\n",
              "  <tbody>\n",
              "    <tr>\n",
              "      <th>0</th>\n",
              "      <td>0.535503</td>\n",
              "      <td>1.145004</td>\n",
              "      <td>-1.385019</td>\n",
              "      <td>0.116006</td>\n",
              "      <td>-3.226691</td>\n",
              "      <td>-1.928459</td>\n",
              "      <td>-1.958892</td>\n",
              "      <td>-1.922997</td>\n",
              "      <td>0.026753</td>\n",
              "      <td>0.178144</td>\n",
              "    </tr>\n",
              "    <tr>\n",
              "      <th>1</th>\n",
              "      <td>-0.624706</td>\n",
              "      <td>-1.575786</td>\n",
              "      <td>-0.794253</td>\n",
              "      <td>1.156287</td>\n",
              "      <td>0.292256</td>\n",
              "      <td>0.349060</td>\n",
              "      <td>-0.455206</td>\n",
              "      <td>0.285332</td>\n",
              "      <td>0.689683</td>\n",
              "      <td>-0.557031</td>\n",
              "    </tr>\n",
              "    <tr>\n",
              "      <th>2</th>\n",
              "      <td>-0.933479</td>\n",
              "      <td>-0.717076</td>\n",
              "      <td>0.820150</td>\n",
              "      <td>-1.547638</td>\n",
              "      <td>0.173941</td>\n",
              "      <td>0.272783</td>\n",
              "      <td>0.025821</td>\n",
              "      <td>-0.030817</td>\n",
              "      <td>-0.431499</td>\n",
              "      <td>0.013336</td>\n",
              "    </tr>\n",
              "    <tr>\n",
              "      <th>3</th>\n",
              "      <td>0.106354</td>\n",
              "      <td>1.192475</td>\n",
              "      <td>-0.024441</td>\n",
              "      <td>1.507469</td>\n",
              "      <td>-2.356836</td>\n",
              "      <td>-0.023139</td>\n",
              "      <td>0.236418</td>\n",
              "      <td>-1.717109</td>\n",
              "      <td>-1.230785</td>\n",
              "      <td>-0.703400</td>\n",
              "    </tr>\n",
              "    <tr>\n",
              "      <th>4</th>\n",
              "      <td>-0.388503</td>\n",
              "      <td>-2.839655</td>\n",
              "      <td>-0.229767</td>\n",
              "      <td>-0.622510</td>\n",
              "      <td>0.271458</td>\n",
              "      <td>-0.928956</td>\n",
              "      <td>0.537900</td>\n",
              "      <td>-1.301787</td>\n",
              "      <td>0.279007</td>\n",
              "      <td>0.631183</td>\n",
              "    </tr>\n",
              "  </tbody>\n",
              "</table>\n",
              "</div>"
            ],
            "text/plain": [
              "          0         1         2         3         4         5         6  \\\n",
              "0  0.535503  1.145004 -1.385019  0.116006 -3.226691 -1.928459 -1.958892   \n",
              "1 -0.624706 -1.575786 -0.794253  1.156287  0.292256  0.349060 -0.455206   \n",
              "2 -0.933479 -0.717076  0.820150 -1.547638  0.173941  0.272783  0.025821   \n",
              "3  0.106354  1.192475 -0.024441  1.507469 -2.356836 -0.023139  0.236418   \n",
              "4 -0.388503 -2.839655 -0.229767 -0.622510  0.271458 -0.928956  0.537900   \n",
              "\n",
              "          7         8         9  \n",
              "0 -1.922997  0.026753  0.178144  \n",
              "1  0.285332  0.689683 -0.557031  \n",
              "2 -0.030817 -0.431499  0.013336  \n",
              "3 -1.717109 -1.230785 -0.703400  \n",
              "4 -1.301787  0.279007  0.631183  "
            ]
          },
          "execution_count": 51,
          "metadata": {},
          "output_type": "execute_result"
        }
      ],
      "source": [
        "pd.DataFrame(principalComponents).head()"
      ]
    },
    {
      "cell_type": "code",
      "execution_count": null,
      "id": "f666ddd8",
      "metadata": {
        "id": "f666ddd8",
        "outputId": "b8ebb2e8-6c69-4149-ed3a-fbdec8d0bb78"
      },
      "outputs": [
        {
          "name": "stderr",
          "output_type": "stream",
          "text": [
            "C:\\Users\\yasse\\anaconda3\\lib\\site-packages\\sklearn\\manifold\\_t_sne.py:780: FutureWarning: The default initialization in TSNE will change from 'random' to 'pca' in 1.2.\n",
            "  warnings.warn(\n",
            "C:\\Users\\yasse\\anaconda3\\lib\\site-packages\\sklearn\\manifold\\_t_sne.py:790: FutureWarning: The default learning rate in TSNE will change from 200.0 to 'auto' in 1.2.\n",
            "  warnings.warn(\n"
          ]
        }
      ],
      "source": [
        "from sklearn.manifold import TSNE\n",
        "tsne = TSNE(n_components = 2, \n",
        "            perplexity = 40, \n",
        "            random_state = 42,\n",
        "            n_iter = 5000,\n",
        "            n_jobs = -1)\n",
        "reduced_data = tsne.fit_transform(principal_components)"
      ]
    },
    {
      "cell_type": "code",
      "execution_count": null,
      "id": "7237457a",
      "metadata": {
        "id": "7237457a",
        "outputId": "bbdfc2bf-786f-4d56-f261-bd056a5b66c8"
      },
      "outputs": [
        {
          "data": {
            "text/plain": [
              "<matplotlib.collections.PathCollection at 0x1d8d84d4310>"
            ]
          },
          "execution_count": 48,
          "metadata": {},
          "output_type": "execute_result"
        },
        {
          "data": {
            "image/png": "[encoded data removed]",
            "text/plain": [
              "<Figure size 432x288 with 1 Axes>"
            ]
          },
          "metadata": {
            "needs_background": "light"
          },
          "output_type": "display_data"
        }
      ],
      "source": [
        "plt.scatter(reduced_data[:,0],reduced_data[:,1])"
      ]
    },
    {
      "cell_type": "markdown",
      "id": "79362ed1",
      "metadata": {
        "id": "79362ed1"
      },
      "source": [
        "### I think there are two or three distinct clusters"
      ]
    },
    {
      "cell_type": "markdown",
      "id": "28ef0343",
      "metadata": {
        "id": "28ef0343"
      },
      "source": [
        "## Clustering analysis"
      ]
    },
    {
      "cell_type": "code",
      "execution_count": null,
      "id": "512acd5f",
      "metadata": {
        "id": "512acd5f",
        "outputId": "ce825f78-1c71-4da2-841b-b23eb3de802d"
      },
      "outputs": [
        {
          "name": "stderr",
          "output_type": "stream",
          "text": [
            "C:\\Users\\yasse\\anaconda3\\lib\\site-packages\\sklearn\\cluster\\_kmeans.py:1039: UserWarning: KMeans is known to have a memory leak on Windows with MKL, when there are less chunks than available threads. You can avoid it by setting the environment variable OMP_NUM_THREADS=3.\n",
            "  warnings.warn(\n",
            "C:\\Users\\yasse\\anaconda3\\lib\\site-packages\\sklearn\\cluster\\_kmeans.py:1039: UserWarning: KMeans is known to have a memory leak on Windows with MKL, when there are less chunks than available threads. You can avoid it by setting the environment variable OMP_NUM_THREADS=3.\n",
            "  warnings.warn(\n"
          ]
        }
      ],
      "source": [
        "from sklearn.cluster import KMeans\n",
        "\n",
        "inertias = []\n",
        "K = range(1, 10)\n",
        "\n",
        "for k in K:\n",
        "    kmeanModel = KMeans(n_clusters=k).fit(reduced_data)\n",
        "    kmeanModel.fit(reduced_data)\n",
        "    inertias.append(kmeanModel.inertia_)"
      ]
    },
    {
      "cell_type": "code",
      "execution_count": null,
      "id": "b0529aab",
      "metadata": {
        "id": "b0529aab",
        "outputId": "3d2b4af6-b226-4837-daa3-3f5dc5a64e90"
      },
      "outputs": [
        {
          "data": {
            "image/png": "[encoded data removed]",
            "text/plain": [
              "<Figure size 432x288 with 1 Axes>"
            ]
          },
          "metadata": {
            "needs_background": "light"
          },
          "output_type": "display_data"
        }
      ],
      "source": [
        "plt.plot(K, inertias, 'bx-')\n",
        "plt.xlabel('Values of K')\n",
        "plt.ylabel('Inertia')\n",
        "plt.title('The Elbow Method using Inertia')\n",
        "plt.show()"
      ]
    },
    {
      "cell_type": "markdown",
      "id": "78a601d8",
      "metadata": {
        "id": "78a601d8"
      },
      "source": [
        "### It appears that the elbow at k = 3"
      ]
    },
    {
      "cell_type": "markdown",
      "id": "f599f99c",
      "metadata": {
        "id": "f599f99c"
      },
      "source": [
        "## I think the data can be clustered into 2 or 3 clusters"
      ]
    },
    {
      "cell_type": "code",
      "execution_count": null,
      "id": "25a2186b",
      "metadata": {
        "id": "25a2186b"
      },
      "outputs": [],
      "source": [
        ""
      ]
    }
  ],
  "metadata": {
    "kernelspec": {
      "display_name": "Python 3",
      "language": "python",
      "name": "python3"
    },
    "language_info": {
      "codemirror_mode": {
        "name": "ipython",
        "version": 3
      },
      "file_extension": ".py",
      "mimetype": "text/x-python",
      "name": "python",
      "nbconvert_exporter": "python",
      "pygments_lexer": "ipython3",
      "version": "3.8.8"
    },
    "colab": {
      "name": "Unsupervised.ipynb",
      "provenance": []
    }
  },
  "nbformat": 4,
  "nbformat_minor": 5
}